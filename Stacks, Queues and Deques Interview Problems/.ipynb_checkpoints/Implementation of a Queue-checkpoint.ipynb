{
 "cells": [
  {
   "cell_type": "markdown",
   "metadata": {},
   "source": [
    "# Implementation of Queue\n",
    "In this lecture we will build on our previous understanding of Queues by implementing our own class of Queue!\n",
    "\n",
    "Queue Methods and Attributes\n",
    "Before we begin implementing our own queue, let's review the attribute and methods it will have:\n",
    "\n",
    "Queue() creates a new queue that is empty. It needs no parameters and returns an empty queue.\n",
    "enqueue(item) adds a new item to the rear of the queue. It needs the item and returns nothing.\n",
    "dequeue() removes the front item from the queue. It needs no parameters and returns the item. The queue is modified.\n",
    "isEmpty() tests to see whether the queue is empty. It needs no parameters and returns a boolean value.\n",
    "size() returns the number of items in the queue. It needs no parameters and returns an integer."
   ]
  },
  {
   "cell_type": "code",
   "execution_count": 3,
   "metadata": {
    "collapsed": false
   },
   "outputs": [],
   "source": [
    "class Queue:\n",
    "    \n",
    "    def __init__(self):\n",
    "        self.items = []\n",
    "        \n",
    "    def isEmpty(self):\n",
    "        return self.items == []\n",
    "        \n",
    "    def enqueue(self, item):\n",
    "        return self.items.insert(0, item)\n",
    "        \n",
    "    def dequeue(self):\n",
    "        return self.items.pop()\n",
    "    \n",
    "    def size(self):\n",
    "        return len(self.items)\n",
    "    \n",
    "    def printQueue(self):\n",
    "        print (self.items)"
   ]
  },
  {
   "cell_type": "code",
   "execution_count": 4,
   "metadata": {
    "collapsed": true
   },
   "outputs": [],
   "source": [
    "q = Queue()"
   ]
  },
  {
   "cell_type": "code",
   "execution_count": 5,
   "metadata": {
    "collapsed": false
   },
   "outputs": [
    {
     "data": {
      "text/plain": [
       "True"
      ]
     },
     "execution_count": 5,
     "metadata": {},
     "output_type": "execute_result"
    }
   ],
   "source": [
    "q.isEmpty()"
   ]
  },
  {
   "cell_type": "code",
   "execution_count": 6,
   "metadata": {
    "collapsed": false
   },
   "outputs": [
    {
     "data": {
      "text/plain": [
       "0"
      ]
     },
     "execution_count": 6,
     "metadata": {},
     "output_type": "execute_result"
    }
   ],
   "source": [
    "q.size()"
   ]
  },
  {
   "cell_type": "code",
   "execution_count": 7,
   "metadata": {
    "collapsed": true
   },
   "outputs": [],
   "source": [
    "q.enqueue(123)\n"
   ]
  },
  {
   "cell_type": "code",
   "execution_count": 8,
   "metadata": {
    "collapsed": true
   },
   "outputs": [],
   "source": [
    "q.enqueue(\"Whh\")"
   ]
  },
  {
   "cell_type": "code",
   "execution_count": 9,
   "metadata": {
    "collapsed": false
   },
   "outputs": [
    {
     "name": "stdout",
     "output_type": "stream",
     "text": [
      "['Whh', 123]\n"
     ]
    }
   ],
   "source": [
    "q.printQueue()"
   ]
  },
  {
   "cell_type": "code",
   "execution_count": 10,
   "metadata": {
    "collapsed": false
   },
   "outputs": [
    {
     "data": {
      "text/plain": [
       "123"
      ]
     },
     "execution_count": 10,
     "metadata": {},
     "output_type": "execute_result"
    }
   ],
   "source": [
    "q.dequeue()"
   ]
  },
  {
   "cell_type": "code",
   "execution_count": 11,
   "metadata": {
    "collapsed": false
   },
   "outputs": [
    {
     "name": "stdout",
     "output_type": "stream",
     "text": [
      "['Whh']\n"
     ]
    }
   ],
   "source": [
    "q.printQueue()"
   ]
  },
  {
   "cell_type": "code",
   "execution_count": null,
   "metadata": {
    "collapsed": true
   },
   "outputs": [],
   "source": []
  }
 ],
 "metadata": {
  "kernelspec": {
   "display_name": "Python [Root]",
   "language": "python",
   "name": "Python [Root]"
  },
  "language_info": {
   "codemirror_mode": {
    "name": "ipython",
    "version": 3
   },
   "file_extension": ".py",
   "mimetype": "text/x-python",
   "name": "python",
   "nbconvert_exporter": "python",
   "pygments_lexer": "ipython3",
   "version": "3.5.2"
  }
 },
 "nbformat": 4,
 "nbformat_minor": 0
}
