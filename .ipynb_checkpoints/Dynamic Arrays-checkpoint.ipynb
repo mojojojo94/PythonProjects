{
 "cells": [
  {
   "cell_type": "markdown",
   "metadata": {},
   "source": [
    "# Dynamic Arrays"
   ]
  },
  {
   "cell_type": "code",
   "execution_count": 2,
   "metadata": {
    "collapsed": false
   },
   "outputs": [
    {
     "name": "stdout",
     "output_type": "stream",
     "text": [
      "Length:   0; Size in Bytes   64 \n",
      "Length:   1; Size in Bytes   96 \n",
      "Length:   2; Size in Bytes   96 \n",
      "Length:   3; Size in Bytes   96 \n",
      "Length:   4; Size in Bytes   96 \n",
      "Length:   5; Size in Bytes  128 \n",
      "Length:   6; Size in Bytes  128 \n",
      "Length:   7; Size in Bytes  128 \n",
      "Length:   8; Size in Bytes  128 \n",
      "Length:   9; Size in Bytes  192 \n"
     ]
    }
   ],
   "source": [
    "import sys\n",
    "\n",
    "#set n\n",
    "n = 10\n",
    "\n",
    "data = []\n",
    "\n",
    "for i in range(n):\n",
    "    \n",
    "    #number of elements\n",
    "    a = len(data)\n",
    "    \n",
    "    #actual size in bytes\n",
    "    b = sys.getsizeof(data)\n",
    "    \n",
    "    print (\"Length: {0:3d}; Size in Bytes {1:4d} \".format(a, b))\n",
    "    \n",
    "    #increase length by one\n",
    "    data.append(n) "
   ]
  },
  {
   "cell_type": "code",
   "execution_count": 8,
   "metadata": {
    "collapsed": false
   },
   "outputs": [
    {
     "data": {
      "text/plain": [
       "22698374052006863956975682"
      ]
     },
     "execution_count": 8,
     "metadata": {},
     "output_type": "execute_result"
    }
   ],
   "source": [
    "def f(n):\n",
    "    a, b = 0, 1\n",
    "    for i in range(0, n):\n",
    "        a, b = b, a + b\n",
    "    return a\n",
    "\n",
    "f(123)"
   ]
  },
  {
   "cell_type": "code",
   "execution_count": null,
   "metadata": {
    "collapsed": true
   },
   "outputs": [],
   "source": []
  }
 ],
 "metadata": {
  "anaconda-cloud": {},
  "kernelspec": {
   "display_name": "Python [Root]",
   "language": "python",
   "name": "Python [Root]"
  },
  "language_info": {
   "codemirror_mode": {
    "name": "ipython",
    "version": 3
   },
   "file_extension": ".py",
   "mimetype": "text/x-python",
   "name": "python",
   "nbconvert_exporter": "python",
   "pygments_lexer": "ipython3",
   "version": "3.5.2"
  }
 },
 "nbformat": 4,
 "nbformat_minor": 0
}
