{
 "cells": [
  {
   "cell_type": "code",
   "execution_count": 13,
   "metadata": {
    "collapsed": false
   },
   "outputs": [
    {
     "name": "stdout",
     "output_type": "stream",
     "text": [
      "What is your Account Number: 2143\n",
      "Enter 's' for savings and 'c' for checking: c\n",
      "Enter the minimum balance that you would like to keep for your account: $50.00\n",
      "Enter your current balance: $5049.00\n",
      "New Balance is : $5200.47\n"
     ]
    }
   ],
   "source": [
    "def main():\n",
    "    #Customer's account number\n",
    "    cAccoutNumber = int(input('What is your Account Number: '))\n",
    "    #What type of account does the customer have\n",
    "    accountType = input(\"Enter 's' for savings and 'c' for checking: \")\n",
    "    #minimum balance that you would like to keep\n",
    "    minBalance = float(input(\"Enter the minimum balance that you would like to keep for your account: $\"))\n",
    "    currBalance = float(input(\"Enter your current balance: $\")) \n",
    "    #NEW BALANCE\n",
    "    newBalance = calcBalance(accountType, minBalance, currBalance)\n",
    "    \n",
    "    print (\"New Balance is : $%.2f\" %(newBalance))\n",
    "\n",
    "def calcBalance(accT, minB, currB):\n",
    "    newBal = currB\n",
    "    if (accT == 's'):\n",
    "        if (currB < minB):\n",
    "             newBal = newBal - 10.00\n",
    "        else:\n",
    "            newBal = newBal + (newBal * 4/100)\n",
    "    elif (accT == 'c'):\n",
    "        if (currB < minB):\n",
    "            newBal = newBal - 25.00\n",
    "        elif (currB <= (minB + 5000.00)):\n",
    "            newBal = newBal + (newBal * 3/100)\n",
    "        else:\n",
    "            newBal = newBal + (newBal * 5/100)\n",
    "    return newBal\n",
    "            \n",
    "#run program\n",
    "main()"
   ]
  },
  {
   "cell_type": "code",
   "execution_count": null,
   "metadata": {
    "collapsed": true
   },
   "outputs": [],
   "source": []
  }
 ],
 "metadata": {
  "anaconda-cloud": {},
  "kernelspec": {
   "display_name": "Python [Root]",
   "language": "python",
   "name": "Python [Root]"
  },
  "language_info": {
   "codemirror_mode": {
    "name": "ipython",
    "version": 3
   },
   "file_extension": ".py",
   "mimetype": "text/x-python",
   "name": "python",
   "nbconvert_exporter": "python",
   "pygments_lexer": "ipython3",
   "version": "3.5.2"
  }
 },
 "nbformat": 4,
 "nbformat_minor": 0
}
