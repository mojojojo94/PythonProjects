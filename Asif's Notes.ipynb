{
 "cells": [
  {
   "cell_type": "code",
   "execution_count": 1,
   "metadata": {
    "collapsed": true
   },
   "outputs": [],
   "source": [
    "def main():\n",
    "    month = int(input('Month: '))\n",
    "    year = int(input('Year: '))\n",
    "    \n",
    "    print (days_in_month(month, year))\n",
    "    \n",
    "    m = ['January', 'February', 'March', 'April', 'May', 'June'\\\n",
    "        'July', 'August', 'September', 'October', 'November', 'December']\n",
    "    \n",
    "    days = [31,0,31,30,31,30,31,31,30,31,30,31]\n",
    "    \n",
    "    \n",
    "def is_leap_year(year):\n",
    "    return (year % 4 == 0)\n",
    "\n",
    "def days_in_month(month, year):\n",
    "    if(is_leap_year(year) and month == \"February\"):\n",
    "        return 29 "
   ]
  },
  {
   "cell_type": "code",
   "execution_count": null,
   "metadata": {
    "collapsed": true
   },
   "outputs": [],
   "source": [
    "def main():\n",
    "    month = int(input(\"Enter Month: \"))\n",
    "    year = int(input(\"Enter Year: \"))\n",
    "    \n",
    "    print(days_in_month(month, year))\n",
    "\n",
    "\n",
    "def days_in_month(month, year):\n",
    "    \n",
    "    month = int(input(\"Enter Month: \"))\n",
    "    year = int(input(\"Enter Year: \"))\n",
    "    \n",
    "    m = ['January', 'February', 'March', 'April', 'May', 'June'\\\n",
    "        'July', 'August', 'September', 'October', 'November', 'December']\n",
    "    \n",
    "    #days = [31,0,31,30,31,30,31,31,30,31,30,31]\n",
    "    \n",
    "    actual_month = m[month-1]\n",
    "    \n",
    "    if (month == 4 or 6 or 9 or 11):\n",
    "        days = 30\n",
    "        print(\"There are\", days, \"in\", actual_month)\n",
    "    elif(month == 1 or 3 or 5 or 7 or 8 or 10 or 12):\n",
    "        days = 31\n",
    "        print(\"There are\", days, \"in\", actual_month)\n",
    "    elif(month == 2 and is_leap_year(year)):\n",
    "        print(\"There are 29 days in\", actual_month)\n",
    "    elif(month == 2)\n",
    "        print(\"There are 28 days in\", actual_month)\n",
    "    \n",
    "    \n",
    "    #print(m[month-1])\n",
    "    \n",
    "    if (month == >12)\n",
    "        print(\"Error enter valid month\")\n",
    "        days_in_month(month, year)\n",
    "\n",
    "def is_leap_year(year):\n",
    "    return (year % 4 == 0)\n",
    "\n",
    "def days_in_month(month, year):\n",
    "    if(is_leap_year(year) and month == \"February\"):\n",
    "        return True"
   ]
  }
 ],
 "metadata": {
  "anaconda-cloud": {},
  "kernelspec": {
   "display_name": "Python [Root]",
   "language": "python",
   "name": "Python [Root]"
  },
  "language_info": {
   "codemirror_mode": {
    "name": "ipython",
    "version": 3
   },
   "file_extension": ".py",
   "mimetype": "text/x-python",
   "name": "python",
   "nbconvert_exporter": "python",
   "pygments_lexer": "ipython3",
   "version": "3.5.2"
  }
 },
 "nbformat": 4,
 "nbformat_minor": 0
}
