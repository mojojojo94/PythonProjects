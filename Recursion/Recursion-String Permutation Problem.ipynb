{
 "cells": [
  {
   "cell_type": "markdown",
   "metadata": {},
   "source": [
    "# String Permutation\n",
    "Problem Statement\n",
    "Given a string, write a function that uses recursion to output a list of all the possible permutations of that string.\n",
    "\n",
    "For example, given s='abc' the function should return ['abc', 'acb', 'bac', 'bca', 'cab', 'cba']\n",
    "\n",
    "Note: If a character is repeated, treat each occurence as distinct, for example an input of 'xxx' would return a list with 6 \"versions\" of 'xxx'"
   ]
  },
  {
   "cell_type": "code",
   "execution_count": 27,
   "metadata": {
    "collapsed": false
   },
   "outputs": [],
   "source": [
    "def stringPermutation(s):\n",
    "    output = []\n",
    "    \n",
    "    #Base Case\n",
    "    if len(s) == 1:\n",
    "        \n",
    "        output = [s]\n",
    "        \n",
    "    #Recursive Case\n",
    "    else:\n",
    "        \n",
    "        #For every letter in string\n",
    "        #Step 2      #Step 3\n",
    "        \n",
    "        for i, letter in enumerate(s):\n",
    "            print (\"this is i: \", i, \",\", \"this is letter: \", letter)\n",
    "            \n",
    "            #For every permutation resulting from step 2 and 3\n",
    "            for perm in stringPermutation(s[:i] + s[i+1:]):\n",
    "                print(\"i is: \", i, \",\", \"s[:i]: \", s[:i], \",\", \"s[i+1:]: \", s[i+1:])\n",
    "                print(\"this is perm: \", perm)\n",
    "                #Add it to output\n",
    "                output += [letter + perm]\n",
    "                print (\"this is output: \", output)\n",
    "                \n",
    "    return output"
   ]
  },
  {
   "cell_type": "code",
   "execution_count": 28,
   "metadata": {
    "collapsed": false
   },
   "outputs": [
    {
     "name": "stdout",
     "output_type": "stream",
     "text": [
      "this is i:  0 , this is letter:  a\n",
      "this is i:  0 , this is letter:  b\n",
      "i is:  0 , s[:i]:   , s[i+1:]:  c\n",
      "this is perm:  c\n",
      "this is output:  ['bc']\n",
      "this is i:  1 , this is letter:  c\n",
      "i is:  1 , s[:i]:  b , s[i+1:]:  \n",
      "this is perm:  b\n",
      "this is output:  ['bc', 'cb']\n",
      "i is:  0 , s[:i]:   , s[i+1:]:  bc\n",
      "this is perm:  bc\n",
      "this is output:  ['abc']\n",
      "i is:  0 , s[:i]:   , s[i+1:]:  bc\n",
      "this is perm:  cb\n",
      "this is output:  ['abc', 'acb']\n",
      "this is i:  1 , this is letter:  b\n",
      "this is i:  0 , this is letter:  a\n",
      "i is:  0 , s[:i]:   , s[i+1:]:  c\n",
      "this is perm:  c\n",
      "this is output:  ['ac']\n",
      "this is i:  1 , this is letter:  c\n",
      "i is:  1 , s[:i]:  a , s[i+1:]:  \n",
      "this is perm:  a\n",
      "this is output:  ['ac', 'ca']\n",
      "i is:  1 , s[:i]:  a , s[i+1:]:  c\n",
      "this is perm:  ac\n",
      "this is output:  ['abc', 'acb', 'bac']\n",
      "i is:  1 , s[:i]:  a , s[i+1:]:  c\n",
      "this is perm:  ca\n",
      "this is output:  ['abc', 'acb', 'bac', 'bca']\n",
      "this is i:  2 , this is letter:  c\n",
      "this is i:  0 , this is letter:  a\n",
      "i is:  0 , s[:i]:   , s[i+1:]:  b\n",
      "this is perm:  b\n",
      "this is output:  ['ab']\n",
      "this is i:  1 , this is letter:  b\n",
      "i is:  1 , s[:i]:  a , s[i+1:]:  \n",
      "this is perm:  a\n",
      "this is output:  ['ab', 'ba']\n",
      "i is:  2 , s[:i]:  ab , s[i+1:]:  \n",
      "this is perm:  ab\n",
      "this is output:  ['abc', 'acb', 'bac', 'bca', 'cab']\n",
      "i is:  2 , s[:i]:  ab , s[i+1:]:  \n",
      "this is perm:  ba\n",
      "this is output:  ['abc', 'acb', 'bac', 'bca', 'cab', 'cba']\n"
     ]
    },
    {
     "data": {
      "text/plain": [
       "['abc', 'acb', 'bac', 'bca', 'cab', 'cba']"
      ]
     },
     "execution_count": 28,
     "metadata": {},
     "output_type": "execute_result"
    }
   ],
   "source": [
    "stringPermutation('abc')"
   ]
  },
  {
   "cell_type": "code",
   "execution_count": 15,
   "metadata": {
    "collapsed": false
   },
   "outputs": [
    {
     "name": "stdout",
     "output_type": "stream",
     "text": [
      "All test cases passed.\n"
     ]
    }
   ],
   "source": [
    "\"\"\"\n",
    "RUN THIS CELL TO TEST YOUR SOLUTION.\n",
    "\"\"\"\n",
    "\n",
    "from nose.tools import assert_equal\n",
    "\n",
    "class TestPerm(object):\n",
    "    \n",
    "    def test(self,solution):\n",
    "        \n",
    "        assert_equal(sorted(solution('abc')),sorted(['abc', 'acb', 'bac', 'bca', 'cab', 'cba']))\n",
    "        assert_equal(sorted(solution('dog')),sorted(['dog', 'dgo', 'odg', 'ogd', 'gdo', 'god']) )\n",
    "        \n",
    "        print ('All test cases passed.')\n",
    "        \n",
    "\n",
    "\n",
    "# Run Tests\n",
    "t = TestPerm()\n",
    "t.test(permute)"
   ]
  },
  {
   "cell_type": "code",
   "execution_count": null,
   "metadata": {
    "collapsed": true
   },
   "outputs": [],
   "source": []
  }
 ],
 "metadata": {
  "kernelspec": {
   "display_name": "Python [Root]",
   "language": "python",
   "name": "Python [Root]"
  },
  "language_info": {
   "codemirror_mode": {
    "name": "ipython",
    "version": 3
   },
   "file_extension": ".py",
   "mimetype": "text/x-python",
   "name": "python",
   "nbconvert_exporter": "python",
   "pygments_lexer": "ipython3",
   "version": "3.5.2"
  }
 },
 "nbformat": 4,
 "nbformat_minor": 0
}
